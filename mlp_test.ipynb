{
 "cells": [
  {
   "cell_type": "code",
   "execution_count": 11,
   "metadata": {},
   "outputs": [],
   "source": [
    "import models.MLP.model as MLP\n",
    "import models.CNN.model as CNN\n",
    "import importlib\n",
    "import numpy as np\n",
    "from tqdm import tqdm\n",
    "import torch\n",
    "\n",
    "from torchvision import datasets, transforms\n",
    "from torch.utils.data import DataLoader, ConcatDataset\n",
    "from tqdm.auto import tqdm\n",
    "import itertools\n",
    "import math\n",
    "import matplotlib.pyplot as plt\n",
    "import torch.nn.functional as F\n",
    "import models.learning as L\n",
    "\n",
    "transform_MNIST = transforms.Compose([\n",
    "            transforms.ToTensor(),\n",
    "            transforms.Lambda(lambda x: x.view(-1))\n",
    "        ])\n",
    "train_dataset = datasets.FashionMNIST(root='./data', train=True, download=True, transform=transform_MNIST)\n",
    "test_dataset = datasets.FashionMNIST(root='./data', train=False, download=True, transform=transform_MNIST)\n",
    "\n",
    "train_dataloader = DataLoader(train_dataset, batch_size=1)\n",
    "test_dataloader = DataLoader(test_dataset, batch_size=1)"
   ]
  },
  {
   "cell_type": "code",
   "execution_count": 12,
   "metadata": {},
   "outputs": [],
   "source": [
    "import importlib"
   ]
  },
  {
   "cell_type": "code",
   "execution_count": 13,
   "metadata": {},
   "outputs": [
    {
     "data": {
      "text/plain": [
       "<module 'models.learning' from '/Users/isaac/Desktop/biological-deep-learning/models/learning.py'>"
      ]
     },
     "execution_count": 13,
     "metadata": {},
     "output_type": "execute_result"
    }
   ],
   "source": [
    "importlib.reload(MLP)\n",
    "importlib.reload(L)"
   ]
  },
  {
   "cell_type": "code",
   "execution_count": 14,
   "metadata": {},
   "outputs": [],
   "source": [
    "device = torch.device('cpu')"
   ]
  },
  {
   "cell_type": "code",
   "execution_count": 16,
   "metadata": {},
   "outputs": [
    {
     "ename": "AttributeError",
     "evalue": "module 'models.MLP.model' has no attribute 'ClassifierLearning'",
     "output_type": "error",
     "traceback": [
      "\u001b[0;31m---------------------------------------------------------------------------\u001b[0m",
      "\u001b[0;31mAttributeError\u001b[0m                            Traceback (most recent call last)",
      "\u001b[1;32m/Users/isaac/Desktop/biological-deep-learning/mlp_test.ipynb Cell 5\u001b[0m line \u001b[0;36m1\n\u001b[0;32m----> <a href='vscode-notebook-cell:/Users/isaac/Desktop/biological-deep-learning/mlp_test.ipynb#W4sZmlsZQ%3D%3D?line=0'>1</a>\u001b[0m model \u001b[39m=\u001b[39m MLP\u001b[39m.\u001b[39mMLPBaseline_Model(\u001b[39m64\u001b[39m, \u001b[39m100\u001b[39m, \u001b[39m0.005\u001b[39m, \u001b[39m0.01\u001b[39m, \u001b[39m1e-3\u001b[39m, \u001b[39m0.99\u001b[39m, \u001b[39m10\u001b[39m, device, MLP\u001b[39m.\u001b[39;49mClassifierLearning\u001b[39m.\u001b[39mContrastive, MLP\u001b[39m.\u001b[39mLearning\u001b[39m.\u001b[39mFullyOrthogonal, MLP\u001b[39m.\u001b[39mWeightScale\u001b[39m.\u001b[39mWeightDecay)\n\u001b[1;32m      <a href='vscode-notebook-cell:/Users/isaac/Desktop/biological-deep-learning/mlp_test.ipynb#W4sZmlsZQ%3D%3D?line=1'>2</a>\u001b[0m model \u001b[39m=\u001b[39m MLP\u001b[39m.\u001b[39mTDBaseline_Experiment(\u001b[39m1\u001b[39m, model, train_dataloader, \u001b[39m'\u001b[39m\u001b[39mFashionMNIST\u001b[39m\u001b[39m'\u001b[39m, \u001b[39m10\u001b[39m, device)\n",
      "\u001b[0;31mAttributeError\u001b[0m: module 'models.MLP.model' has no attribute 'ClassifierLearning'"
     ]
    }
   ],
   "source": [
    "model = MLP.MLPBaseline_Model(64, 0.005, 10)\n",
    "model = MLP.TDBaseline_Experiment(1, model, train_dataloader, 'FashionMNIST', 10, device)"
   ]
  },
  {
   "cell_type": "code",
   "execution_count": null,
   "metadata": {},
   "outputs": [],
   "source": []
  }
 ],
 "metadata": {
  "kernelspec": {
   "display_name": "base",
   "language": "python",
   "name": "python3"
  },
  "language_info": {
   "codemirror_mode": {
    "name": "ipython",
    "version": 3
   },
   "file_extension": ".py",
   "mimetype": "text/x-python",
   "name": "python",
   "nbconvert_exporter": "python",
   "pygments_lexer": "ipython3",
   "version": "3.11.5"
  }
 },
 "nbformat": 4,
 "nbformat_minor": 2
}
