{
 "cells": [
  {
   "cell_type": "code",
   "execution_count": null,
   "metadata": {},
   "outputs": [],
   "source": [
    "##############################################################################\n",
    "# PART 1: Imports\n",
    "##############################################################################\n",
    "from experiments.base_heb_cpu import BaseHebCPU\n",
    "from models.hebbian_network import HebbianNetwork\n",
    "from utils.experiment_parser import *\n",
    "from utils.experiment_comparer import *\n",
    "from utils.experiment_logger import *\n",
    "from utils.experiment_timer import *\n",
    "from utils.experiment_stats import *\n"
   ]
  },
  {
   "cell_type": "code",
   "execution_count": null,
   "metadata": {},
   "outputs": [],
   "source": [
    "##############################################################################\n",
    "# PART 2: Create logs for experiment\n",
    "##############################################################################\n",
    "\n"
   ]
  },
  {
   "cell_type": "code",
   "execution_count": null,
   "metadata": {},
   "outputs": [],
   "source": [
    "##############################################################################\n",
    "# PART 3: Parse arguments for the experiment\n",
    "##############################################################################\n",
    "\n",
    "# Simulate the command line arguments\n",
    "args_dict = {\n",
    "    '--is_training': True,\n",
    "    '--data_name': 'MNIST',\n",
    "    '--train_data': 'data/mnist/train-images.idx3-ubyte',\n",
    "    '--train_label': 'data/mnist/train-labels.idx1-ubyte',\n",
    "    '--test_data': 'data/mnist/t10k-images.idx3-ubyte',\n",
    "    '--test_label': 'data/mnist/t10k-labels.idx1-ubyte',\n",
    "    '--train_filename': 'data/mnist/mnist_train.csv',\n",
    "    '--test_filename': 'data/mnist/mnist_test.csv',\n",
    "    '--input_dim': 784,\n",
    "    '--heb_dim': 64,\n",
    "    '--output_dim': 10,\n",
    "    '--heb_lamb': 1,\n",
    "    '--heb_gam': 0.99,\n",
    "    '--cla_lamb': 1,\n",
    "    '--lr': 0.005,\n",
    "    '--eps': 0.01,\n",
    "    '--batch_size': 1,\n",
    "    '--epochs': 1,\n",
    "    '--test_epochs': 1,\n",
    "    '--device_id': 'cpu',\n",
    "    '--local_machine': True\n",
    "}\n",
    "\n",
    "# Convert the dictionary to a list of arguments\n",
    "args_list = []\n",
    "for k, v in args_dict.items():\n",
    "    args_list.append(k)\n",
    "    args_list.append(str(v))\n",
    "    \n",
    "ARGS = parse_arguments(args_list)"
   ]
  },
  {
   "cell_type": "code",
   "execution_count": null,
   "metadata": {},
   "outputs": [],
   "source": [
    "##############################################################################\n",
    "# PART 4: Create and run experiment\n",
    "##############################################################################\n",
    "# Get arguments\n",
    "#ARGS = parse_arguments()\n",
    "\n",
    "# Experiments setup\n",
    "lambda_test = [1]\n",
    "    \n",
    "lambda_test.sort()\n",
    "print(lambda_test)\n",
    "\n",
    "for l in lambda_test:\n",
    "    ARGS.heb_lamb = l\n",
    "    \n",
    "    model = HebbianNetwork(ARGS)\n",
    "    experiment = BaseHebCPU(model, ARGS, f'cpu-{l}')\n",
    "    test_acc, train_acc = experiment.run()\n",
    "    experiment.cleanup()\n",
    "    \n",
    "    print(f\"Epoch: {ARGS.epochs} || Lambda: {l} || Test Acc: {test_acc} || Train Acc: {train_acc}\")"
   ]
  },
  {
   "cell_type": "code",
   "execution_count": 3,
   "metadata": {},
   "outputs": [],
   "source": [
    "# Simulate the command line arguments\n",
    "args_dict = {\n",
    "    '--color': 'RED'\n",
    "}\n",
    "\n",
    "# Convert the dictionary to a list of arguments\n",
    "args_list = []\n",
    "for k, v in args_dict.items():\n",
    "    args_list.append(k)\n",
    "    args_list.append(str(v))"
   ]
  },
  {
   "cell_type": "code",
   "execution_count": 4,
   "metadata": {},
   "outputs": [
    {
     "name": "stdout",
     "output_type": "stream",
     "text": [
      "Selected color: Color.RED\n"
     ]
    }
   ],
   "source": [
    "import argparse\n",
    "from enum import Enum\n",
    "\n",
    "class Color(Enum):\n",
    "    RED = 'RED'\n",
    "    BLUE = 'BLUE'\n",
    "    YELLOW = 'YELLOW'\n",
    "\n",
    "def main():\n",
    "    # Create the parser\n",
    "    parser = argparse.ArgumentParser(description=\"Process some colors.\")\n",
    "    \n",
    "    # Add an argument for color\n",
    "    parser.add_argument('--color', type=str, help='Color to be used (RED, BLUE, YELLOW)', default='RED')\n",
    "    \n",
    "    # Parse the arguments\n",
    "    args = parser.parse_args(args_list)\n",
    "    \n",
    "    # Convert the string argument to uppercase and then to the corresponding Color enum member\n",
    "    try:\n",
    "        selected_color = Color[args.color.upper()]\n",
    "        print(f\"Selected color: {selected_color}\")\n",
    "    except KeyError:\n",
    "        print(f\"Invalid color: {args.color}. Valid options are: RED, BLUE, YELLOW.\")\n",
    "\n",
    "if __name__ == \"__main__\":\n",
    "    main()\n"
   ]
  },
  {
   "cell_type": "code",
   "execution_count": null,
   "metadata": {},
   "outputs": [],
   "source": []
  }
 ],
 "metadata": {
  "kernelspec": {
   "display_name": "Python 3",
   "language": "python",
   "name": "python3"
  },
  "language_info": {
   "codemirror_mode": {
    "name": "ipython",
    "version": 3
   },
   "file_extension": ".py",
   "mimetype": "text/x-python",
   "name": "python",
   "nbconvert_exporter": "python",
   "pygments_lexer": "ipython3",
   "version": "3.12.4"
  }
 },
 "nbformat": 4,
 "nbformat_minor": 2
}
