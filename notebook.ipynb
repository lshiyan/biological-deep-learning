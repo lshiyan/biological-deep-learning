{
 "cells": [
  {
   "cell_type": "code",
   "execution_count": null,
   "metadata": {},
   "outputs": [],
   "source": [
    "from experiments.baseheb import BaseHebbianExperiment\n",
    "import argparse"
   ]
  },
  {
   "cell_type": "code",
   "execution_count": null,
   "metadata": {},
   "outputs": [],
   "source": [
    "\n",
    "parser = argparse.ArgumentParser(description='Biological deep learning')\n",
    "    \n",
    "# Basic configurations.\n",
    "parser.add_argument('--is_training', type=bool, default=True, help='status')\n",
    "parser.add_argument('--data_name', type=str, default=\"MNIST\")\n",
    "\n",
    "# Data Factory\n",
    "parser.add_argument('--train_data', type=str, default=\"data/fashion_mnist/train-images.idx3-ubyte\")\n",
    "parser.add_argument('--train_label', type=str, default=\"data/fashion_mnist/train-labels.idx1-ubyte\")\n",
    "parser.add_argument('--test_data', type=str, default=\"data/fashion_mnist/t10k-images.idx3-ubyte\")\n",
    "parser.add_argument('--test_label', type=str, default=\"data/fashion_mnist/t10k-labels.idx1-ubyte\")\n",
    "\n",
    "# CSV files generated\n",
    "parser.add_argument('--train_filename', type=str, default=\"data/fashion_mnist/fashion_mnist_train.csv\")\n",
    "parser.add_argument('--test_filename', type=str, default=\"data/fashion_mnist/fashion_mnist_test.csv\")\n",
    "\n",
    "# Dimension of each layer\n",
    "parser.add_argument('--input_dim', type=int, default=784)\n",
    "parser.add_argument('--heb_dim', type=int, default=64)\n",
    "parser.add_argument('--output_dim', type=int, default=10)\n",
    "\n",
    "# Hebbian layer hyperparameters\n",
    "parser.add_argument('--heb_lr', type=float, default=0.005)\n",
    "parser.add_argument('--heb_lamb', type=float, default=15)\n",
    "parser.add_argument('--heb_gam', type=float, default=0)\n",
    "\n",
    "# Classification layer hyperparameters\n",
    "parser.add_argument('--cla_lr', type=float, default=0.001)\n",
    "parser.add_argument('--cla_lamb', type=float, default=1)\n",
    "parser.add_argument('--cla_gam', type=float, default=0)\n",
    "\n",
    "# Shared hyperparameters\n",
    "parser.add_argument('--eps', type=float, default=0.01)\n",
    "\n",
    "# Experiment parameters\n",
    "parser.add_argument('--num_epochs', type=int, default=3)\n",
    "\n",
    "# Parse arguments\n",
    "args, _ = parser.parse_known_args()"
   ]
  },
  {
   "cell_type": "code",
   "execution_count": null,
   "metadata": {},
   "outputs": [],
   "source": [
    "experiment = BaseHebbianExperiment(args)\n",
    "experiment.train()\n",
    "experiment.visualize_weights()\n",
    "print(f\"Test Accuracy: {experiment.test()}\")"
   ]
  }
 ],
 "metadata": {
  "kernelspec": {
   "display_name": "Python 3",
   "language": "python",
   "name": "python3"
  },
  "language_info": {
   "codemirror_mode": {
    "name": "ipython",
    "version": 3
   },
   "file_extension": ".py",
   "mimetype": "text/x-python",
   "name": "python",
   "nbconvert_exporter": "python",
   "pygments_lexer": "ipython3",
   "version": "3.12.3"
  }
 },
 "nbformat": 4,
 "nbformat_minor": 2
}
