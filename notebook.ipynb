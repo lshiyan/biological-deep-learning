{
 "cells": [
  {
   "cell_type": "code",
   "execution_count": null,
   "metadata": {},
   "outputs": [],
   "source": [
    "##############################################################################\n",
    "# PART 1: Imports\n",
    "##############################################################################\n",
    "\n",
    "from experiments.base_heb_cpu import BaseHebCpu\n",
    "from models.hebbian_network import HebbianNetwork\n",
    "from utils.experiment_parser import *\n",
    "from utils.experiment_comparer import *\n",
    "from utils.experiment_logger import *\n",
    "from utils.experiment_timer import *\n"
   ]
  },
  {
   "cell_type": "code",
   "execution_count": null,
   "metadata": {},
   "outputs": [],
   "source": [
    "##############################################################################\n",
    "# PART 2: Create logs for experiment\n",
    "##############################################################################\n",
    "\n"
   ]
  },
  {
   "cell_type": "code",
   "execution_count": null,
   "metadata": {},
   "outputs": [],
   "source": [
    "##############################################################################\n",
    "# PART 3: Parse arguments for the experiment\n",
    "##############################################################################\n",
    "\n",
    "# Simulate the command line arguments\n",
    "args_dict = {\n",
    "    '--is_training': True,\n",
    "    '--data_name': 'MNIST',\n",
    "    '--train_data': 'data/mnist/train-images.idx3-ubyte',\n",
    "    '--train_label': 'data/mnist/train-labels.idx1-ubyte',\n",
    "    '--test_data': 'data/mnist/t10k-images.idx3-ubyte',\n",
    "    '--test_label': 'data/mnist/t10k-labels.idx1-ubyte',\n",
    "    '--train_filename': 'data/mnist/mnist_train.csv',\n",
    "    '--test_filename': 'data/mnist/mnist_test.csv',\n",
    "    '--input_dim': 784,\n",
    "    '--heb_dim': 64,\n",
    "    '--output_dim': 10,\n",
    "    '--heb_lamb': 1,\n",
    "    '--heb_gam': 0.99,\n",
    "    '--cla_lamb': 1,\n",
    "    '--eps': 0.01,\n",
    "    '--epochs': 1,\n",
    "    '--test_epochs': 1,\n",
    "    '--dropout': 0.2,\n",
    "    '--lr': 0.005,\n",
    "    '--lr_step_size': 1000,\n",
    "    '--gamma': 1,\n",
    "    '--batch_size': 1,\n",
    "    '--device_id': 'cpu',\n",
    "    '--local_machine': True\n",
    "}\n",
    "\n",
    "# Convert the dictionary to a list of arguments\n",
    "args_list = []\n",
    "for k, v in args_dict.items():\n",
    "    args_list.append(k)\n",
    "    args_list.append(str(v))\n",
    "    \n",
    "ARGS = parse_arguments(args_list)"
   ]
  },
  {
   "cell_type": "code",
   "execution_count": null,
   "metadata": {},
   "outputs": [],
   "source": [
    "##############################################################################\n",
    "# PART 4: Create and run experiment\n",
    "##############################################################################\n",
    "model = HebbianNetwork(ARGS)\n",
    "experiment = BaseHebCpu(model, ARGS, 'tryout')\n",
    "test_acc, train_acc = experiment.run()\n",
    "print(f\"Test Acc: {test_acc}.\")\n",
    "print(f\"Train Acc: {train_acc}.\")"
   ]
  }
 ],
 "metadata": {
  "kernelspec": {
   "display_name": "Python 3",
   "language": "python",
   "name": "python3"
  },
  "language_info": {
   "codemirror_mode": {
    "name": "ipython",
    "version": 3
   },
   "file_extension": ".py",
   "mimetype": "text/x-python",
   "name": "python",
   "nbconvert_exporter": "python",
   "pygments_lexer": "ipython3",
   "version": "3.12.4"
  }
 },
 "nbformat": 4,
 "nbformat_minor": 2
}
