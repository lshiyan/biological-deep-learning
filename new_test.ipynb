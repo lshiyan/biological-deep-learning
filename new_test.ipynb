{
 "cells": [
  {
   "cell_type": "code",
   "execution_count": 1,
   "metadata": {},
   "outputs": [
    {
     "name": "stdout",
     "output_type": "stream",
     "text": [
      "Downloading https://www.cs.toronto.edu/~kriz/cifar-10-python.tar.gz to ./data/cifar-10-python.tar.gz\n"
     ]
    },
    {
     "name": "stderr",
     "output_type": "stream",
     "text": [
      "100%|██████████| 170498071/170498071 [00:16<00:00, 10534075.72it/s]\n"
     ]
    },
    {
     "name": "stdout",
     "output_type": "stream",
     "text": [
      "Extracting ./data/cifar-10-python.tar.gz to ./data\n",
      "Files already downloaded and verified\n"
     ]
    }
   ],
   "source": [
    "import models.CNN.model as CNN\n",
    "import models.CNN.experiments as CNNexp\n",
    "import importlib\n",
    "import numpy as np\n",
    "import argparse\n",
    "from pathlib import Path\n",
    "import torch\n",
    "import json\n",
    "from models.hyperparams import ImageType, LearningRule, WeightScale, Inhibition, oneHotEncode\n",
    "from torchvision import datasets, transforms\n",
    "from torch.utils.data import DataLoader, ConcatDataset\n",
    "from tqdm.auto import tqdm\n",
    "import itertools\n",
    "import math\n",
    "import matplotlib.pyplot as plt\n",
    "import torch.nn.functional as F\n",
    "import models.learning as L\n",
    "\n",
    "transform = transforms.Compose(\n",
    "    [transforms.ToTensor()])\n",
    "\n",
    "train_dataset = datasets.CIFAR10(root='./data', train=True,\n",
    "                                        download=True, transform=transform)\n",
    "test_dataset = datasets.CIFAR10(root='./data', train=False,\n",
    "                                       download=True, transform=transform)\n",
    "\n",
    "train_dataloader = DataLoader(train_dataset, batch_size=4)\n",
    "test_dataloader = DataLoader(test_dataset, batch_size=4)"
   ]
  },
  {
   "cell_type": "code",
   "execution_count": 2,
   "metadata": {},
   "outputs": [],
   "source": [
    "def view(h1):\n",
    "    ac1 = h1.squeeze().detach().to('cpu')\n",
    "    print(ac1.shape)\n",
    "    nbe = int(math.ceil(math.sqrt(ac1.size(0))))\n",
    "\n",
    "\n",
    "    fig, axes = plt.subplots(nbe, nbe, figsize=(20,20))\n",
    "    for i, ax in enumerate(axes.flat):\n",
    "        if i > ac1.size(0)-1:\n",
    "            break\n",
    "        ax.imshow(ac1[i])\n",
    "    plt.show()"
   ]
  },
  {
   "cell_type": "code",
   "execution_count": 3,
   "metadata": {},
   "outputs": [],
   "source": [
    "inp, lab = next(iter(test_dataloader))\n",
    "image = inp[0].permute(1,2,0)\n",
    "label = lab[0]\n",
    "input1 = inp[0].unsqueeze(0)"
   ]
  },
  {
   "cell_type": "code",
   "execution_count": 4,
   "metadata": {},
   "outputs": [
    {
     "data": {
      "text/plain": [
       "<matplotlib.image.AxesImage at 0x17688ec10>"
      ]
     },
     "execution_count": 4,
     "metadata": {},
     "output_type": "execute_result"
    },
    {
     "data": {
      "image/png": "[encoded data removed]",
      "text/plain": [
       "<Figure size 640x480 with 1 Axes>"
      ]
     },
     "metadata": {},
     "output_type": "display_data"
    }
   ],
   "source": [
    "plt.imshow(image)"
   ]
  },
  {
   "cell_type": "code",
   "execution_count": 2,
   "metadata": {},
   "outputs": [],
   "source": [
    "topdown = False"
   ]
  },
  {
   "cell_type": "code",
   "execution_count": 3,
   "metadata": {},
   "outputs": [],
   "source": [
    "import importlib"
   ]
  },
  {
   "cell_type": "code",
   "execution_count": 11,
   "metadata": {},
   "outputs": [
    {
     "data": {
      "text/plain": [
       "<module 'models.CNN.model' from '/Users/genevievelarosedebilly/Desktop/Winter25/COMP396/HebbianTopDown/models/CNN/model.py'>"
      ]
     },
     "execution_count": 11,
     "metadata": {},
     "output_type": "execute_result"
    }
   ],
   "source": [
    "importlib.reload(L)\n",
    "importlib.reload(CNN)"
   ]
  },
  {
   "cell_type": "code",
   "execution_count": 5,
   "metadata": {},
   "outputs": [],
   "source": [
    "with open(\"ConfigsCNN/config0.json\", \"r\") as file:\n",
    "        config = json.load(file)"
   ]
  },
  {
   "cell_type": "code",
   "execution_count": 12,
   "metadata": {},
   "outputs": [
    {
     "data": {
      "application/vnd.jupyter.widget-view+json": {
       "model_id": "186337806c534737bb9e6ac75c01f7b9",
       "version_major": 2,
       "version_minor": 0
      },
      "text/plain": [
       "  0%|          | 0/12500 [00:00<?, ?it/s]"
      ]
     },
     "metadata": {},
     "output_type": "display_data"
    },
    {
     "ename": "TypeError",
     "evalue": "mexican_hat() got an unexpected keyword argument 'k'",
     "output_type": "error",
     "traceback": [
      "\u001b[0;31m---------------------------------------------------------------------------\u001b[0m",
      "\u001b[0;31mTypeError\u001b[0m                                 Traceback (most recent call last)",
      "Cell \u001b[0;32mIn[12], line 3\u001b[0m\n\u001b[1;32m      1\u001b[0m mymodelCNN \u001b[38;5;241m=\u001b[39m CNN\u001b[38;5;241m.\u001b[39mnew_CNN_Model_from_config((\u001b[38;5;241m3\u001b[39m,\u001b[38;5;241m32\u001b[39m,\u001b[38;5;241m32\u001b[39m), config, \u001b[38;5;124m'\u001b[39m\u001b[38;5;124mcpu\u001b[39m\u001b[38;5;124m'\u001b[39m, \u001b[38;5;241m10\u001b[39m)\n\u001b[0;32m----> 3\u001b[0m mymodelCNN \u001b[38;5;241m=\u001b[39m CNNexp\u001b[38;5;241m.\u001b[39mnew_CNN_Experiment(epoch\u001b[38;5;241m=\u001b[39m\u001b[38;5;241m1\u001b[39m, mymodel\u001b[38;5;241m=\u001b[39mmymodelCNN, dataloader\u001b[38;5;241m=\u001b[39mtrain_dataloader,\n\u001b[1;32m      4\u001b[0m                                                 nclasses\u001b[38;5;241m=\u001b[39m\u001b[38;5;241m10\u001b[39m, imgtype\u001b[38;5;241m=\u001b[39mCNN\u001b[38;5;241m.\u001b[39mImageType\u001b[38;5;241m.\u001b[39mRGB, \n\u001b[1;32m      5\u001b[0m                                                 device\u001b[38;5;241m=\u001b[39mtorch\u001b[38;5;241m.\u001b[39mdevice(\u001b[38;5;124m'\u001b[39m\u001b[38;5;124mcpu\u001b[39m\u001b[38;5;124m'\u001b[39m), greedytrain\u001b[38;5;241m=\u001b[39m\u001b[38;5;28;01mTrue\u001b[39;00m)\n\u001b[1;32m      7\u001b[0m accuracy \u001b[38;5;241m=\u001b[39m CNNexp\u001b[38;5;241m.\u001b[39mCNN_Baseline_test(mymodel\u001b[38;5;241m=\u001b[39mmymodelCNN, data_loader\u001b[38;5;241m=\u001b[39mtest_dataloader, imgtype\u001b[38;5;241m=\u001b[39mCNN\u001b[38;5;241m.\u001b[39mImageType\u001b[38;5;241m.\u001b[39mRGB, topdown\u001b[38;5;241m=\u001b[39m\u001b[38;5;28;01mFalse\u001b[39;00m)[\u001b[38;5;241m0\u001b[39m]\n\u001b[1;32m      8\u001b[0m \u001b[38;5;28mprint\u001b[39m(accuracy)\n",
      "File \u001b[0;32m~/Desktop/Winter25/COMP396/HebbianTopDown/models/CNN/experiments.py:92\u001b[0m, in \u001b[0;36mnew_CNN_Experiment\u001b[0;34m(epoch, mymodel, dataloader, nclasses, imgtype, device, greedytrain)\u001b[0m\n\u001b[1;32m     89\u001b[0m \u001b[38;5;28;01mif\u001b[39;00m \u001b[38;5;28misinstance\u001b[39m(layers[r_l], ConvSoftHebbLayer):\n\u001b[1;32m     90\u001b[0m     \u001b[38;5;66;03m# if you've reached layer idx, perform forward pass with targets\u001b[39;00m\n\u001b[1;32m     91\u001b[0m     \u001b[38;5;28;01mif\u001b[39;00m ((r_l) \u001b[38;5;241m==\u001b[39m idx): \n\u001b[0;32m---> 92\u001b[0m         x \u001b[38;5;241m=\u001b[39m layers[r_l]\u001b[38;5;241m.\u001b[39mforward(x, target)\n\u001b[1;32m     93\u001b[0m     \u001b[38;5;28;01melse\u001b[39;00m : \n\u001b[1;32m     94\u001b[0m         \u001b[38;5;66;03m# for all layers before idx, perform forward pass without targets\u001b[39;00m\n\u001b[1;32m     95\u001b[0m         x \u001b[38;5;241m=\u001b[39m layers[r_l]\u001b[38;5;241m.\u001b[39mforward(x, target\u001b[38;5;241m=\u001b[39m\u001b[38;5;28;01mNone\u001b[39;00m)\n",
      "File \u001b[0;32m~/Desktop/Winter25/COMP396/HebbianTopDown/models/CNN/layers.py:50\u001b[0m, in \u001b[0;36mConvSoftHebbLayer.forward\u001b[0;34m(self, x, target)\u001b[0m\n\u001b[1;32m     48\u001b[0m unfolded_x \u001b[38;5;241m=\u001b[39m unfolded_x\u001b[38;5;241m.\u001b[39mpermute(\u001b[38;5;241m0\u001b[39m, \u001b[38;5;241m2\u001b[39m, \u001b[38;5;241m1\u001b[39m)\n\u001b[1;32m     49\u001b[0m mlp_x \u001b[38;5;241m=\u001b[39m unfolded_x\u001b[38;5;241m.\u001b[39mreshape(batch_dim \u001b[38;5;241m*\u001b[39m nb_tiles, in_dim)\n\u001b[0;32m---> 50\u001b[0m mlp_y \u001b[38;5;241m=\u001b[39m \u001b[38;5;28mself\u001b[39m\u001b[38;5;241m.\u001b[39mbase_soft_hebb_layer(mlp_x, target)\n\u001b[1;32m     51\u001b[0m y \u001b[38;5;241m=\u001b[39m mlp_y\u001b[38;5;241m.\u001b[39mreshape(batch_dim, \u001b[38;5;28mself\u001b[39m\u001b[38;5;241m.\u001b[39moutput_shape[\u001b[38;5;241m0\u001b[39m], \u001b[38;5;28mself\u001b[39m\u001b[38;5;241m.\u001b[39moutput_shape[\u001b[38;5;241m1\u001b[39m], \u001b[38;5;28mself\u001b[39m\u001b[38;5;241m.\u001b[39mout_channel)\n\u001b[1;32m     52\u001b[0m y \u001b[38;5;241m=\u001b[39m y\u001b[38;5;241m.\u001b[39mpermute(\u001b[38;5;241m0\u001b[39m, \u001b[38;5;241m3\u001b[39m, \u001b[38;5;241m1\u001b[39m, \u001b[38;5;241m2\u001b[39m)\n",
      "File \u001b[0;32m~/anaconda3/lib/python3.11/site-packages/torch/nn/modules/module.py:1553\u001b[0m, in \u001b[0;36mModule._wrapped_call_impl\u001b[0;34m(self, *args, **kwargs)\u001b[0m\n\u001b[1;32m   1551\u001b[0m     \u001b[38;5;28;01mreturn\u001b[39;00m \u001b[38;5;28mself\u001b[39m\u001b[38;5;241m.\u001b[39m_compiled_call_impl(\u001b[38;5;241m*\u001b[39margs, \u001b[38;5;241m*\u001b[39m\u001b[38;5;241m*\u001b[39mkwargs)  \u001b[38;5;66;03m# type: ignore[misc]\u001b[39;00m\n\u001b[1;32m   1552\u001b[0m \u001b[38;5;28;01melse\u001b[39;00m:\n\u001b[0;32m-> 1553\u001b[0m     \u001b[38;5;28;01mreturn\u001b[39;00m \u001b[38;5;28mself\u001b[39m\u001b[38;5;241m.\u001b[39m_call_impl(\u001b[38;5;241m*\u001b[39margs, \u001b[38;5;241m*\u001b[39m\u001b[38;5;241m*\u001b[39mkwargs)\n",
      "File \u001b[0;32m~/anaconda3/lib/python3.11/site-packages/torch/nn/modules/module.py:1562\u001b[0m, in \u001b[0;36mModule._call_impl\u001b[0;34m(self, *args, **kwargs)\u001b[0m\n\u001b[1;32m   1557\u001b[0m \u001b[38;5;66;03m# If we don't have any hooks, we want to skip the rest of the logic in\u001b[39;00m\n\u001b[1;32m   1558\u001b[0m \u001b[38;5;66;03m# this function, and just call forward.\u001b[39;00m\n\u001b[1;32m   1559\u001b[0m \u001b[38;5;28;01mif\u001b[39;00m \u001b[38;5;129;01mnot\u001b[39;00m (\u001b[38;5;28mself\u001b[39m\u001b[38;5;241m.\u001b[39m_backward_hooks \u001b[38;5;129;01mor\u001b[39;00m \u001b[38;5;28mself\u001b[39m\u001b[38;5;241m.\u001b[39m_backward_pre_hooks \u001b[38;5;129;01mor\u001b[39;00m \u001b[38;5;28mself\u001b[39m\u001b[38;5;241m.\u001b[39m_forward_hooks \u001b[38;5;129;01mor\u001b[39;00m \u001b[38;5;28mself\u001b[39m\u001b[38;5;241m.\u001b[39m_forward_pre_hooks\n\u001b[1;32m   1560\u001b[0m         \u001b[38;5;129;01mor\u001b[39;00m _global_backward_pre_hooks \u001b[38;5;129;01mor\u001b[39;00m _global_backward_hooks\n\u001b[1;32m   1561\u001b[0m         \u001b[38;5;129;01mor\u001b[39;00m _global_forward_hooks \u001b[38;5;129;01mor\u001b[39;00m _global_forward_pre_hooks):\n\u001b[0;32m-> 1562\u001b[0m     \u001b[38;5;28;01mreturn\u001b[39;00m forward_call(\u001b[38;5;241m*\u001b[39margs, \u001b[38;5;241m*\u001b[39m\u001b[38;5;241m*\u001b[39mkwargs)\n\u001b[1;32m   1564\u001b[0m \u001b[38;5;28;01mtry\u001b[39;00m:\n\u001b[1;32m   1565\u001b[0m     result \u001b[38;5;241m=\u001b[39m \u001b[38;5;28;01mNone\u001b[39;00m\n",
      "File \u001b[0;32m~/Desktop/Winter25/COMP396/HebbianTopDown/models/MLP/layers.py:123\u001b[0m, in \u001b[0;36mSoftHebbLayer.forward\u001b[0;34m(self, x, target)\u001b[0m\n\u001b[1;32m    121\u001b[0m inference_output \u001b[38;5;241m=\u001b[39m \u001b[38;5;28mself\u001b[39m\u001b[38;5;241m.\u001b[39minference(x)\n\u001b[1;32m    122\u001b[0m \u001b[38;5;28;01mif\u001b[39;00m \u001b[38;5;28mself\u001b[39m\u001b[38;5;241m.\u001b[39mtraining:\n\u001b[0;32m--> 123\u001b[0m     \u001b[38;5;28mself\u001b[39m\u001b[38;5;241m.\u001b[39mlearn_weights(inference_output, target\u001b[38;5;241m=\u001b[39mtarget)\n\u001b[1;32m    124\u001b[0m \u001b[38;5;28;01mreturn\u001b[39;00m inference_output\u001b[38;5;241m.\u001b[39my\n",
      "File \u001b[0;32m~/Desktop/Winter25/COMP396/HebbianTopDown/models/MLP/layers.py:101\u001b[0m, in \u001b[0;36mSoftHebbLayer.learn_weights\u001b[0;34m(self, inference_output, target)\u001b[0m\n\u001b[1;32m     99\u001b[0m \u001b[38;5;28;01mdef\u001b[39;00m \u001b[38;5;21mlearn_weights\u001b[39m(\u001b[38;5;28mself\u001b[39m, inference_output, target\u001b[38;5;241m=\u001b[39m\u001b[38;5;28;01mNone\u001b[39;00m):\n\u001b[1;32m    100\u001b[0m     supervised \u001b[38;5;241m=\u001b[39m \u001b[38;5;28mself\u001b[39m\u001b[38;5;241m.\u001b[39mlearningrule \u001b[38;5;241m==\u001b[39m LearningRule\u001b[38;5;241m.\u001b[39mSoftHebbOutputContrastive\n\u001b[0;32m--> 101\u001b[0m     delta_w \u001b[38;5;241m=\u001b[39m L\u001b[38;5;241m.\u001b[39mupdate_softhebb_w(inference_output\u001b[38;5;241m.\u001b[39my, inference_output\u001b[38;5;241m.\u001b[39mxn, inference_output\u001b[38;5;241m.\u001b[39ma,\n\u001b[1;32m    102\u001b[0m                                   \u001b[38;5;28mself\u001b[39m\u001b[38;5;241m.\u001b[39mweight, \u001b[38;5;28mself\u001b[39m\u001b[38;5;241m.\u001b[39minhibition, inference_output\u001b[38;5;241m.\u001b[39mu, target\u001b[38;5;241m=\u001b[39mtarget,\n\u001b[1;32m    103\u001b[0m                                   supervised\u001b[38;5;241m=\u001b[39msupervised, weight_growth\u001b[38;5;241m=\u001b[39m\u001b[38;5;28mself\u001b[39m\u001b[38;5;241m.\u001b[39mweight_growth, anti_hebb_factor\u001b[38;5;241m=\u001b[39m\u001b[38;5;28mself\u001b[39m\u001b[38;5;241m.\u001b[39manti_hebb_factor)\n\u001b[1;32m    104\u001b[0m     delta_b \u001b[38;5;241m=\u001b[39m L\u001b[38;5;241m.\u001b[39mupdate_softhebb_b(inference_output\u001b[38;5;241m.\u001b[39my, \u001b[38;5;28mself\u001b[39m\u001b[38;5;241m.\u001b[39mlogprior, target\u001b[38;5;241m=\u001b[39mtarget, supervised\u001b[38;5;241m=\u001b[39msupervised)\n\u001b[1;32m    105\u001b[0m     delta_l \u001b[38;5;241m=\u001b[39m L\u001b[38;5;241m.\u001b[39mupdate_softhebb_lamb(inference_output\u001b[38;5;241m.\u001b[39my, inference_output\u001b[38;5;241m.\u001b[39ma, inhibition\u001b[38;5;241m=\u001b[39m\u001b[38;5;28mself\u001b[39m\u001b[38;5;241m.\u001b[39minhibition,\n\u001b[1;32m    106\u001b[0m                                      lamb\u001b[38;5;241m=\u001b[39m\u001b[38;5;28mself\u001b[39m\u001b[38;5;241m.\u001b[39mlamb\u001b[38;5;241m.\u001b[39mitem(), in_dim\u001b[38;5;241m=\u001b[39m\u001b[38;5;28mself\u001b[39m\u001b[38;5;241m.\u001b[39minput_dim, target\u001b[38;5;241m=\u001b[39mtarget,\n\u001b[1;32m    107\u001b[0m                                      supervised\u001b[38;5;241m=\u001b[39msupervised)\n",
      "File \u001b[0;32m~/Desktop/Winter25/COMP396/HebbianTopDown/models/learning.py:127\u001b[0m, in \u001b[0;36mupdate_softhebb_w\u001b[0;34m(y, normed_x, a, weights, inhibition, u, target, supervised, weight_growth, anti_hebb_factor)\u001b[0m\n\u001b[1;32m    125\u001b[0m max_values, indices \u001b[38;5;241m=\u001b[39m torch\u001b[38;5;241m.\u001b[39mmax(y_part, dim\u001b[38;5;241m=\u001b[39m\u001b[38;5;241m1\u001b[39m, keepdim\u001b[38;5;241m=\u001b[39m\u001b[38;5;28;01mTrue\u001b[39;00m)  \u001b[38;5;66;03m# y_max\u001b[39;00m\n\u001b[1;32m    126\u001b[0m x_ratio \u001b[38;5;241m=\u001b[39m max_values \u001b[38;5;241m/\u001b[39m (y_part \u001b[38;5;241m+\u001b[39m \u001b[38;5;241m1e-9\u001b[39m)  \u001b[38;5;66;03m# Prevent division by zero\u001b[39;00m\n\u001b[0;32m--> 127\u001b[0m mexican_hat_factor \u001b[38;5;241m=\u001b[39m mexican_hat(x_ratio, sigma\u001b[38;5;241m=\u001b[39m\u001b[38;5;241m1.0\u001b[39m, k\u001b[38;5;241m=\u001b[39m\u001b[38;5;241m2.0\u001b[39m, c\u001b[38;5;241m=\u001b[39m\u001b[38;5;241m0.5\u001b[39m)\n\u001b[1;32m    128\u001b[0m mask \u001b[38;5;241m=\u001b[39m torch\u001b[38;5;241m.\u001b[39mzeros_like(y_part, dtype\u001b[38;5;241m=\u001b[39mtorch\u001b[38;5;241m.\u001b[39mbool)\n\u001b[1;32m    129\u001b[0m mask\u001b[38;5;241m.\u001b[39mscatter_(\u001b[38;5;241m1\u001b[39m, indices, \u001b[38;5;28;01mTrue\u001b[39;00m)\n",
      "\u001b[0;31mTypeError\u001b[0m: mexican_hat() got an unexpected keyword argument 'k'"
     ]
    }
   ],
   "source": [
    "mymodelCNN = CNN.new_CNN_Model_from_config((3,32,32), config, 'cpu', 10)\n",
    "\n",
    "mymodelCNN = CNNexp.new_CNN_Experiment(epoch=1, mymodel=mymodelCNN, dataloader=train_dataloader,\n",
    "                                                nclasses=10, imgtype=CNN.ImageType.RGB, \n",
    "                                                device=torch.device('cpu'), greedytrain=True)\n",
    "    \n",
    "accuracy = CNNexp.CNN_Baseline_test(mymodel=mymodelCNN, data_loader=test_dataloader, imgtype=CNN.ImageType.RGB, topdown=False)[0]\n",
    "print(accuracy)\n"
   ]
  },
  {
   "cell_type": "code",
   "execution_count": null,
   "metadata": {},
   "outputs": [],
   "source": [
    "# greedy train -> the first 12 configs are for greedy training\n",
    "print(\"GREEDY TRAINING:\")\n",
    "\n",
    "with open(f\"ConfigsCNN/config0.json\", \"r\") as file:\n",
    "    config = json.load(file)\n",
    "\n",
    "mymodelCNN = CNN.new_CNN_Model_from_config((3,32,32), config, 'cpu', 10)\n",
    "mymodelCNN, mymodel = CNNexp.new_CNN_Experiment(epoch=1, mymodel=mymodelCNN, dataloader=train_dataloader,\n",
    "                                                nclasses=10, imgtype=CNN.ImageType.RGB, \n",
    "                                                device=torch.device('cpu'), greedytrain=True)\n",
    "    \n",
    "accuracy = CNNexp.CNN_Baseline_test(mymodel=mymodel, data_loader=test_dataloader, imgtype=CNN.ImageType.RGB, topdown=topdown)[0]\n",
    "\n",
    "mean_acc = np.mean(accuracy)\n",
    "var_acc = np.var(accuracy)\n"
   ]
  },
  {
   "cell_type": "code",
   "execution_count": null,
   "metadata": {},
   "outputs": [],
   "source": [
    "u1, o1 = mymodelCNN.layers['CNNLayer1'].forward(input1, label, False)\n",
    "u2, o2 = mymodelCNN.layers['CNNLayer2'].forward(o1, None, False)\n",
    "u3, o3 = mymodelCNN.layers['CNNLayer3'].forward(o2, None, False)"
   ]
  },
  {
   "cell_type": "code",
   "execution_count": null,
   "metadata": {},
   "outputs": [],
   "source": [
    "view(o1)"
   ]
  },
  {
   "cell_type": "code",
   "execution_count": null,
   "metadata": {},
   "outputs": [],
   "source": [
    "view(o2)"
   ]
  },
  {
   "cell_type": "code",
   "execution_count": null,
   "metadata": {},
   "outputs": [],
   "source": [
    "view(o3)"
   ]
  },
  {
   "cell_type": "markdown",
   "metadata": {},
   "source": [
    "### Gradient Classifier Head"
   ]
  },
  {
   "cell_type": "code",
   "execution_count": 135,
   "metadata": {},
   "outputs": [],
   "source": [
    "with open(\"modelconfig.json\", \"r\") as file:\n",
    "        config = json.load(file)"
   ]
  },
  {
   "cell_type": "code",
   "execution_count": null,
   "metadata": {},
   "outputs": [],
   "source": [
    "mymodelCNN = CNN.CNN_Model_from_config((3,32,32), config, LearningRule.SoftHebb, WeightScale.No, LearningRule.SoftHebb, Inhibition.Softmax, 'cpu', 10)\n",
    "mymodelCNN, mymodel = CNN.CNN_Experiment(epoch=1, mymodel=mymodelCNN, dataloader=train_dataloader, testloader= test_dataloader,\n",
    "                                         dataset='CIFAR10',\n",
    "                                      nclasses=10, imgtype=CNN.ImageType.RGB, traintopdown=topdown, testtopdown=topdown, device=torch.device('cpu'), greedytrain=True)\n",
    "# print(CNN.CNN_Baseline_test(mymodel=mymodelCNN, data_loader=test_dataloader, imgtype=CNN.ImageType.RGB,\n",
    "#                                 topdown=topdown))"
   ]
  },
  {
   "cell_type": "code",
   "execution_count": null,
   "metadata": {},
   "outputs": [],
   "source": [
    "print(CNN.CNN_Baseline_test(mymodel=mymodel, data_loader=test_dataloader, imgtype=CNN.ImageType.RGB,\n",
    "                                topdown=topdown))"
   ]
  },
  {
   "cell_type": "code",
   "execution_count": 157,
   "metadata": {},
   "outputs": [],
   "source": [
    "u1, o1 = mymodelCNN.layers['CNNLayer1'].forward(input1, label, False)\n",
    "u2, o2 = mymodelCNN.layers['CNNLayer2'].forward(o1, None, False)\n",
    "u3, o3 = mymodelCNN.layers['CNNLayer3'].forward(o2, None, False)"
   ]
  },
  {
   "cell_type": "code",
   "execution_count": null,
   "metadata": {},
   "outputs": [],
   "source": [
    "view(o1)"
   ]
  },
  {
   "cell_type": "code",
   "execution_count": null,
   "metadata": {},
   "outputs": [],
   "source": [
    "view(o2)"
   ]
  },
  {
   "cell_type": "code",
   "execution_count": null,
   "metadata": {},
   "outputs": [],
   "source": [
    "view(o3)"
   ]
  },
  {
   "cell_type": "markdown",
   "metadata": {},
   "source": [
    "### Hebbian Head"
   ]
  },
  {
   "cell_type": "code",
   "execution_count": 187,
   "metadata": {},
   "outputs": [],
   "source": [
    "myHebbmodel = CNN.Hebbian_Classifier(8192, 10, 'cpu', mymodelCNN, 0.005)"
   ]
  },
  {
   "cell_type": "code",
   "execution_count": null,
   "metadata": {},
   "outputs": [],
   "source": [
    "for _ in range(50):\n",
    "    for data in tqdm(test_dataloader):\n",
    "        inputs, label = data\n",
    "        myHebbmodel.train_classifier(inputs, oneHotEncode(label, 10, 'cpu'))"
   ]
  },
  {
   "cell_type": "code",
   "execution_count": 189,
   "metadata": {},
   "outputs": [
    {
     "data": {
      "application/vnd.jupyter.widget-view+json": {
       "model_id": "0a7c3ae6699e4ccca4c68218a918471f",
       "version_major": 2,
       "version_minor": 0
      },
      "text/plain": [
       "  0%|          | 0/10000 [00:00<?, ?it/s]"
      ]
     },
     "metadata": {},
     "output_type": "display_data"
    },
    {
     "name": "stdout",
     "output_type": "stream",
     "text": [
      "(0.2927, {3: (22, 1000, 51), 6: (526, 1000, 1643), 8: (474, 1000, 825), 0: (570, 1000, 1467), 1: (245, 1000, 447), 4: (330, 1000, 1227), 5: (305, 1000, 600), 9: (322, 1000, 623), 7: (131, 1000, 188), 2: (2, 1000, 2)})\n"
     ]
    }
   ],
   "source": [
    "print(CNN.CNN_Baseline_test(mymodel=myHebbmodel, data_loader=test_dataloader, imgtype=CNN.ImageType.RGB,\n",
    "                                topdown=topdown))"
   ]
  },
  {
   "cell_type": "markdown",
   "metadata": {},
   "source": [
    "### Gradient 64 - 256 - 1024 channels"
   ]
  },
  {
   "cell_type": "code",
   "execution_count": 215,
   "metadata": {},
   "outputs": [],
   "source": [
    "with open(\"fourconfig.json\", \"r\") as file:\n",
    "        config = json.load(file)"
   ]
  },
  {
   "cell_type": "code",
   "execution_count": null,
   "metadata": {},
   "outputs": [],
   "source": [
    "mymodelCNN = CNN.CNN_Model_from_config((3,32,32), config, LearningRule.SoftHebb, WeightScale.No, LearningRule.SoftHebb, Inhibition.Softmax, 'cpu', 10)\n",
    "mymodelCNN, mymodel = CNN.CNN_Experiment(epoch=1, mymodel=mymodelCNN, dataloader=train_dataloader, testloader= test_dataloader,\n",
    "                                         dataset='CIFAR10',\n",
    "                                      nclasses=10, imgtype=CNN.ImageType.RGB, traintopdown=topdown, testtopdown=topdown, device=torch.device('cpu'), greedytrain=True)\n",
    "# print(CNN.CNN_Baseline_test(mymodel=mymodel, data_loader=test_dataloader, imgtype=CNN.ImageType.RGB,\n",
    "#                                 topdown=topdown))"
   ]
  },
  {
   "cell_type": "markdown",
   "metadata": {},
   "source": [
    "#### 4 layers"
   ]
  },
  {
   "cell_type": "code",
   "execution_count": null,
   "metadata": {},
   "outputs": [],
   "source": [
    "print(CNN.CNN_Baseline_test(mymodel=mymodel, data_loader=test_dataloader, imgtype=CNN.ImageType.RGB,\n",
    "                                topdown=topdown))"
   ]
  },
  {
   "cell_type": "code",
   "execution_count": null,
   "metadata": {},
   "outputs": [],
   "source": [
    "u1, o1 = mymodelCNN.layers['CNNLayer1'].forward(input1, label, False)\n",
    "u2, o2 = mymodelCNN.layers['CNNLayer2'].forward(o1, None, False)\n",
    "u3, o3 = mymodelCNN.layers['CNNLayer3'].forward(o2, None, False)\n",
    "u4, o4 = mymodelCNN.layers['CNNLayer4'].forward(o3, None, False)"
   ]
  },
  {
   "cell_type": "code",
   "execution_count": null,
   "metadata": {},
   "outputs": [],
   "source": [
    "view(o1)\n",
    "view(o2)\n",
    "view(o3)\n",
    "view(o4)"
   ]
  },
  {
   "cell_type": "markdown",
   "metadata": {},
   "source": [
    "#### 2 layers"
   ]
  },
  {
   "cell_type": "code",
   "execution_count": null,
   "metadata": {},
   "outputs": [],
   "source": [
    "print(CNN.CNN_Baseline_test(mymodel=mymodel, data_loader=test_dataloader, imgtype=CNN.ImageType.RGB,\n",
    "                                topdown=topdown))"
   ]
  },
  {
   "cell_type": "code",
   "execution_count": 203,
   "metadata": {},
   "outputs": [],
   "source": [
    "u1, o1 = mymodelCNN.layers['CNNLayer1'].forward(input1, label, False)\n",
    "u2, o2 = mymodelCNN.layers['CNNLayer2'].forward(o1, None, False)"
   ]
  },
  {
   "cell_type": "code",
   "execution_count": null,
   "metadata": {},
   "outputs": [],
   "source": [
    "view(o1)\n",
    "view(o2)"
   ]
  },
  {
   "cell_type": "markdown",
   "metadata": {},
   "source": [
    "#### 3 layers"
   ]
  },
  {
   "cell_type": "code",
   "execution_count": null,
   "metadata": {},
   "outputs": [],
   "source": [
    "print(CNN.CNN_Baseline_test(mymodel=mymodel, data_loader=test_dataloader, imgtype=CNN.ImageType.RGB,\n",
    "                                topdown=topdown))"
   ]
  },
  {
   "cell_type": "code",
   "execution_count": 194,
   "metadata": {},
   "outputs": [],
   "source": [
    "u1, o1 = mymodelCNN.layers['CNNLayer1'].forward(input1, label, False)\n",
    "u2, o2 = mymodelCNN.layers['CNNLayer2'].forward(o1, None, False)\n",
    "u3, o3 = mymodelCNN.layers['CNNLayer3'].forward(o2, None, False)"
   ]
  },
  {
   "cell_type": "code",
   "execution_count": null,
   "metadata": {},
   "outputs": [],
   "source": [
    "view(o1)\n",
    "view(o2)\n",
    "view(o3)"
   ]
  },
  {
   "cell_type": "code",
   "execution_count": null,
   "metadata": {},
   "outputs": [],
   "source": []
  }
 ],
 "metadata": {
  "kernelspec": {
   "display_name": "base",
   "language": "python",
   "name": "python3"
  },
  "language_info": {
   "codemirror_mode": {
    "name": "ipython",
    "version": 3
   },
   "file_extension": ".py",
   "mimetype": "text/x-python",
   "name": "python",
   "nbconvert_exporter": "python",
   "pygments_lexer": "ipython3",
   "version": "3.11.5"
  }
 },
 "nbformat": 4,
 "nbformat_minor": 2
}
